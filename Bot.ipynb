# Step 1: Install necessary packages
!pip install pandas scikit-learn numpy

# Step 2: Import libraries
import pandas as pd
import numpy as np
from sklearn.model_selection import train_test_split
from sklearn.preprocessing import LabelEncoder, StandardScaler
from sklearn.ensemble import RandomForestClassifier
from sklearn.metrics import accuracy_score, classification_report

# Step 3: Load the dataset
from google.colab import files
uploaded = files.upload()

# Assuming the dataset is named 'career_recommender.csv'
career_data = pd.read_csv('/content/career_recommender.csv')

# Step 4: Data Preprocessing
# Drop unnecessary columns like 'What is your name?'
career_data = career_data.drop(columns=['What is your name?'])

# Handle missing values (if any)
career_data.fillna('', inplace=True)

# Encode categorical variables
label_encoders = {}
for column in career_data.select_dtypes(include=['object']).columns:
    le = LabelEncoder()
    career_data[column] = le.fit_transform(career_data[column])
    label_encoders[column] = le

# Step 5: Feature Engineering
# Separate features and target variable
X = career_data.drop(columns=['What is your gender?'])  # Replace 'Predicted Career' with the actual column name for the target
y = career_data['Predicted Career']

# Split the data into training and testing sets
X_train, X_test, y_train, y_test = train_test_split(X, y, test_size=0.2, random_state=42)

# Step 6: Model Selection and Training
# Using RandomForestClassifier for demonstration
model = RandomForestClassifier(n_estimators=100, random_state=42)
model.fit(X_train, y_train)

# Step 7: Model Evaluation
y_pred = model.predict(X_test)
print("Accuracy:", accuracy_score(y_test, y_pred))
print("Classification Report:\n", classification_report(y_test, y_pred))

# Step 8: Save the Model and Label Encoders for Deployment
import joblib

joblib.dump(model, 'career_guidance_model.pkl')
for column, le in label_encoders.items():
    joblib.dump(le, f'{column}_label_encoder.pkl')

# Step 9: Interactive User Interface
# Simple interface for users to input their responses and get career suggestions

# Function to take user input and predict career
def predict_career(user_input):
    # Encode the user input
    for column, le in label_encoders.items():
        user_input[column] = le.transform([user_input[column]])[0]

    # Predict the career
    prediction = model.predict([list(user_input.values())])[0]
    return label_encoders['Predicted Career'].inverse_transform([prediction])[0]

# Example usage
user_input = {
    'What is your gender?': 'Female',
    'What was your course in UG?': 'B.Sc',
    'What is your UG specialization? Major Subject (Eg; Mathematics)': 'Computer Applications',
    'What are your interests?': 'Cloud computing',
    'What are your skills ? (Select multiple if necessary)': 'Python;SQL;Java',
    'What was the average CGPA or Percentage obtained in under graduation?': '85',
    'Did you do any certification courses additionally?': 'Yes',
    'If yes, please specify your certificate course title.': 'Cloud Computing Certification',
    'Are you working?': 'No',
    'If yes, then what is/was your first Job title in your current field of work?': 'NA',
    'Have you done masters after undergraduation? If yes, mention your field of masters.': 'MCA'
}

predicted_career = predict_career(user_input)
print("Recommended Career:", predicted_career)

# Save the model and encoders to Google Drive or local system for later use
from google.colab import drive
drive.mount('/content/drive')

# Save files to Google Drive
joblib.dump(model, '/content/drive/My Drive/career_guidance_model.pkl')
for column, le in label_encoders.items():
    joblib.dump(le, f'/content/drive/My Drive/{column}_label_encoder.pkl')
